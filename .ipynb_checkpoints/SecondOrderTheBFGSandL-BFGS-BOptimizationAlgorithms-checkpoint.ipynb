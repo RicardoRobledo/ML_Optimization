{
 "cells": [
  {
   "cell_type": "code",
   "execution_count": 2,
   "id": "a7fc5850-09c4-4b23-819e-992753b37232",
   "metadata": {},
   "outputs": [
    {
     "name": "stdout",
     "output_type": "stream",
     "text": [
      "Status : Optimization terminated successfully.\n",
      "Total Evaluations: 3\n",
      "Solution: f([-2.22044605e-16  1.11022302e-16]) = 0.00000\n"
     ]
    }
   ],
   "source": [
    "from scipy.optimize import minimize\n",
    "from numpy.random import rand\n",
    "\n",
    "# objective function\n",
    "def objective(x):\n",
    "    return x[0]**2.0 + x[1]**2.0\n",
    "\n",
    "# derivative of the objective function\n",
    "def derivative(x):\n",
    "    return [x[0] * 2, x[1] * 2]\n",
    "\n",
    "# define range for input\n",
    "r_min, r_max = -5.0, 5.0\n",
    "\n",
    "# define the starting point as a random sample from the domain\n",
    "pt = r_min + rand(2) * (r_max - r_min)\n",
    "\n",
    "# perform the bfgs algorithm search\n",
    "result = minimize(objective, pt, method='BFGS', jac=derivative)\n",
    "\n",
    "# summarize the result\n",
    "print('Status : %s' % result['message'])\n",
    "print('Total Evaluations: %d' % result['nfev'])\n",
    "\n",
    "# evaluate solution\n",
    "solution = result['x']\n",
    "evaluation = objective(solution)\n",
    "print('Solution: f(%s) = %.5f' % (solution, evaluation))"
   ]
  },
  {
   "cell_type": "code",
   "execution_count": 1,
   "id": "781272d5-62ae-48a3-8ef3-a3919456b9fc",
   "metadata": {},
   "outputs": [
    {
     "name": "stdout",
     "output_type": "stream",
     "text": [
      "Status : CONVERGENCE: NORM_OF_PROJECTED_GRADIENT_<=_PGTOL\n",
      "Total Evaluations: 3\n",
      "Solution: f([0. 0.]) = 0.00000\n"
     ]
    }
   ],
   "source": [
    "from scipy.optimize import minimize\n",
    "from numpy.random import rand\n",
    "\n",
    "# objective function\n",
    "def objective(x):\n",
    "    return x[0]**2.0 + x[1]**2.0\n",
    "\n",
    "# derivative of the objective function\n",
    "def derivative(x):\n",
    "    return [x[0] * 2, x[1] * 2]\n",
    "\n",
    "# define range for input\n",
    "r_min, r_max = -5.0, 5.0\n",
    "\n",
    "# define the starting point as a random sample from the domain\n",
    "pt = r_min + rand(2) * (r_max - r_min)\n",
    "\n",
    "# perform the L-BFGS-B algorithm search\n",
    "result = minimize(objective, pt, method='L-BFGS-B', jac=derivative)\n",
    "\n",
    "# summarize the result\n",
    "print('Status : %s' % result['message'])\n",
    "print('Total Evaluations: %d' % result['nfev'])\n",
    "\n",
    "# evaluate solution\n",
    "solution = result['x']\n",
    "evaluation = objective(solution)\n",
    "print('Solution: f(%s) = %.5f' % (solution, evaluation))"
   ]
  },
  {
   "cell_type": "code",
   "execution_count": null,
   "id": "6f0163e9-a547-4439-8db3-718fd8e15752",
   "metadata": {},
   "outputs": [],
   "source": []
  }
 ],
 "metadata": {
  "kernelspec": {
   "display_name": "Python 3 (ipykernel)",
   "language": "python",
   "name": "python3"
  },
  "language_info": {
   "codemirror_mode": {
    "name": "ipython",
    "version": 3
   },
   "file_extension": ".py",
   "mimetype": "text/x-python",
   "name": "python",
   "nbconvert_exporter": "python",
   "pygments_lexer": "ipython3",
   "version": "3.11.10"
  }
 },
 "nbformat": 4,
 "nbformat_minor": 5
}
